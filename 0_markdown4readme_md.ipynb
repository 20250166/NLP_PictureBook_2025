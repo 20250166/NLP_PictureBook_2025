{
  "nbformat": 4,
  "nbformat_minor": 0,
  "metadata": {
    "colab": {
      "provenance": [],
      "include_colab_link": true
    },
    "kernelspec": {
      "name": "python3",
      "display_name": "Python 3"
    },
    "language_info": {
      "name": "python"
    }
  },
  "cells": [
    {
      "cell_type": "markdown",
      "metadata": {
        "id": "view-in-github",
        "colab_type": "text"
      },
      "source": [
        "<a href=\"https://colab.research.google.com/github/20250166/NLP_PictureBook_2025/blob/main/0_markdown4readme_md.ipynb\" target=\"_parent\"><img src=\"https://colab.research.google.com/assets/colab-badge.svg\" alt=\"Open In Colab\"/></a>"
      ]
    },
    {
      "cell_type": "markdown",
      "source": [
        "# ✂️✏️📌 **How to Use <font color = 'red'> Markdown Language**\n",
        "* ## For <font color = 'orange'> more syntax</font> of markdown langauge, [Click here.](https://www.markdownguide.org/basic-syntax/)\n"
      ],
      "metadata": {
        "id": "nFyrb7heQOTL"
      }
    },
    {
      "cell_type": "markdown",
      "source": [
        "# NLP_2024\n",
        "\n",
        "# 🐹🍦 **Python Language**\n",
        "\n",
        "## **Learning Python** using **Colab** ([Visit Colab homepage](https://colab.research.google.com/?utm_source=scs-index)) and **Github** ([Visit Github homepage](https://github.com/))\n",
        "\n",
        "### **1. Sign up github** ([Visit a tutorial on Youtube](https://www.youtube.com/watch?v=c-NikCpec7U))\n",
        "### **2. Sign up Google Colaboratory** (aka. Colab) ([Visit a tutorial on Youtube](https://www.youtube.com/watch?v=2X_EU18OeYM))\n",
        "\n",
        "### **3. Useful References**\n",
        "- Exercises 200 파이썬200제 by 장삼용. 정보문화사 2017\n",
        "- [Jump to Python](https://wikidocs.net/book/1)\n",
        "- [wikidocs for nltk](https://wikidocs.net/21667)\n",
        "\n",
        "### **4. Markdown Language**\n",
        "* [Emoji](https://gist.github.com/rxaviers/7360908)\n",
        "* [Markdown syntax](https://www.markdownguide.org/basic-syntax/)\n",
        "\n",
        "### **4.5 <font color = 'brown'>초콜릿</font>에 대한 <font color = 'red'>궁극적인</font> 평론**\n",
        "|🍫|초콜릿 종류|평가|\n",
        "|:--:|:--:|:--:|\n",
        "|1|[Milk chocolate](https://namu.wiki/w/%EB%B0%80%ED%81%AC%EC%B4%88%EC%BD%9C%EB%A6%BF)🥛|달고 부드럽다. 너무 많이 먹으면 물려 풍미가 떨어지니 조금씩만 먹는 것을 추천.|\n",
        "|2|[Dark chocolate](https://namu.wiki/w/%EB%8B%A4%ED%81%AC%EC%B4%88%EC%BD%9C%EB%A6%BF)🤎|적절히 쌉싸름한 카카오의 맛과 중간중간 단 맛이 혀를 사로잡아 훌륭한 초콜릿.|\n",
        "|3|[White chocolate](https://namu.wiki/w/%ED%99%94%EC%9D%B4%ED%8A%B8%EC%B4%88%EC%BD%9C%EB%A6%BF)⬜|하얀 모습이 예쁘긴 하지만 그렇게까지 맛은 없다. 왜 먹는거지? **I hate this**|\n",
        "\n",
        "\n",
        "\n",
        "### **5. Class Materials**\n",
        "| # | Sessions | Keywords |\n",
        "|:--:|:--:|:--:|\n",
        "| 1 | Markdown Language 👪  | [syntax](https://github.com/ms624atyale/NLP_2024/blob/main/0_MarkDown4README_md.ipynb)|  \n",
        "| 2 | Code Cells 🐾 | [variable, assign](https://github.com/ms624atyale/NLP_2024/blob/main/1_CodeCells_Basic.ipynb)|  \n",
        "| 3 | Five Types of Data 📋 | [number, string, list, tuple, dictionary](https://github.com/ms624atyale/NLP_2023/blob/main/2_FiveTypesofData.ipynb)|  "
      ],
      "metadata": {
        "id": "OtctgkT2NOCS"
      }
    }
  ]
}