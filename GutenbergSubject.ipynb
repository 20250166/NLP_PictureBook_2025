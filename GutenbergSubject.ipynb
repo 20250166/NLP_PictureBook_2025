{
  "nbformat": 4,
  "nbformat_minor": 0,
  "metadata": {
    "colab": {
      "provenance": [],
      "authorship_tag": "ABX9TyObkldIh8kmHidbvU2OLHjy",
      "include_colab_link": true
    },
    "kernelspec": {
      "name": "python3",
      "display_name": "Python 3"
    },
    "language_info": {
      "name": "python"
    }
  },
  "cells": [
    {
      "cell_type": "markdown",
      "metadata": {
        "id": "view-in-github",
        "colab_type": "text"
      },
      "source": [
        "<a href=\"https://colab.research.google.com/github/20250166/NLP_PictureBook_2025/blob/main/GutenbergSubject.ipynb\" target=\"_parent\"><img src=\"https://colab.research.google.com/assets/colab-badge.svg\" alt=\"Open In Colab\"/></a>"
      ]
    },
    {
      "cell_type": "markdown",
      "source": [
        "Subject: Childern's picture books\n",
        "\n",
        "Creaters: L. M. Montgomery, Lewis Carroll, Hans Christian Andersen\n",
        "\n",
        "books list:\n",
        "\n",
        "| **Creator** | **Books List** |\n",
        "|:--:|:--:|\n",
        "| **L. M. Montgomery** | Anne of Green Gables, Anne of the Island, Rainbow Valley |\n",
        "| **Lewis Carroll**| Through the Looking-Glass, Alice in Wonderland|\n",
        "| **Hans Christian Andersen** | The Little Match Girl, The Nightingale, What the Moon Saw |\n"
      ],
      "metadata": {
        "id": "HqiO2jiQl_VO"
      }
    }
  ]
}